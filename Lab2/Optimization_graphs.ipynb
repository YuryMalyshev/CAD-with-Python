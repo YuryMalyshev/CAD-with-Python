{
 "cells": [
  {
   "cell_type": "code",
   "execution_count": 1,
   "metadata": {},
   "outputs": [],
   "source": [
    "import numpy as np;\n",
    "import matplotlib.pyplot as plt;\n",
    "import matplotlib as mpl;\n",
    "mpl.rcParams['figure.dpi'] = 600;"
   ]
  },
  {
   "cell_type": "code",
   "execution_count": 36,
   "metadata": {},
   "outputs": [],
   "source": [
    "arr_original = np.array([[-4, -6, 0, 0, 0, 0], \n",
    "                        [-1, 1, 1, 0, 0, 11],\n",
    "                       [1, 1, 0, 1, 0, 27],\n",
    "                       [2, 5, 0, 0, 1, 90]], dtype=np.float32);\n",
    "def printArray(list):\n",
    "    for sub in list:\n",
    "        line = \"\";\n",
    "        for x in sub:\n",
    "            line = line + str(round(x,2)) + \"    \"\n",
    "        line = line + \"\";\n",
    "        print(line);\n",
    "    print();\n",
    "        "
   ]
  },
  {
   "cell_type": "code",
   "execution_count": 37,
   "metadata": {},
   "outputs": [
    {
     "name": "stdout",
     "output_type": "stream",
     "text": [
      "-4.0    -6.0    0.0    0.0    0.0    0.0    \n",
      "-1.0    1.0    1.0    0.0    0.0    11.0    \n",
      "1.0    1.0    0.0    1.0    0.0    27.0    \n",
      "2.0    5.0    0.0    0.0    1.0    90.0    \n",
      "\n"
     ]
    }
   ],
   "source": [
    "printArray(arr_original);"
   ]
  },
  {
   "cell_type": "code",
   "execution_count": 4,
   "metadata": {},
   "outputs": [
    {
     "data": {
      "image/png": "[encoded data removed]",
      "text/plain": [
       "<Figure size 432x288 with 1 Axes>"
      ]
     },
     "metadata": {
      "needs_background": "light"
     },
     "output_type": "display_data"
    }
   ],
   "source": [
    "plt.ylim(0, 30);\n",
    "plt.xlim(0, 45);\n",
    "plt.plot([90/2, 0], [0, 90/5], \"b-\");\n",
    "plt.plot([27, 0], [0, 27], \"r-\");\n",
    "plt.plot([0, 11], [11, 22], \"k-\");\n",
    "plt.plot([0], [11], \"ro\");\n",
    "plt.plot([5], [16], \"ro\");\n",
    "plt.plot([15], [12], \"ro\");\n",
    "plt.show();"
   ]
  },
  {
   "cell_type": "code",
   "execution_count": 5,
   "metadata": {},
   "outputs": [
    {
     "name": "stdout",
     "output_type": "stream",
     "text": [
      "-6.0\n"
     ]
    }
   ],
   "source": [
    "arr_1 = np.copy(arr_original); print(np.min(arr_1[0,:]));\n",
    "#print(arr_1[1:,1]);"
   ]
  },
  {
   "cell_type": "code",
   "execution_count": 6,
   "metadata": {},
   "outputs": [
    {
     "name": "stdout",
     "output_type": "stream",
     "text": [
      "[11. 27. 18.]\n"
     ]
    }
   ],
   "source": [
    "print(arr_1[1:,5]/arr_1[1:,1]);"
   ]
  },
  {
   "cell_type": "code",
   "execution_count": 7,
   "metadata": {},
   "outputs": [
    {
     "name": "stdout",
     "output_type": "stream",
     "text": [
      "[[-10.   0.   6.   0.   0.  66.]\n",
      " [ -1.   1.   1.   0.   0.  11.]\n",
      " [  1.   1.   0.   1.   0.  27.]\n",
      " [  2.   5.   0.   0.   1.  90.]]\n"
     ]
    }
   ],
   "source": [
    "arr_1[0,:] = arr_1[0,:] - arr_1[0,1]*arr_1[1,:];\n",
    "print(arr_1);"
   ]
  },
  {
   "cell_type": "code",
   "execution_count": 8,
   "metadata": {},
   "outputs": [
    {
     "name": "stdout",
     "output_type": "stream",
     "text": [
      "[[-10.   0.   6.   0.   0.  66.]\n",
      " [ -1.   1.   1.   0.   0.  11.]\n",
      " [  2.   0.  -1.   1.   0.  16.]\n",
      " [  7.   0.  -5.   0.   1.  35.]]\n"
     ]
    }
   ],
   "source": [
    "arr_1[2,:] = arr_1[2,:] - arr_1[2,1]*arr_1[1,:];\n",
    "arr_1[3,:] = arr_1[3,:] - arr_1[3,1]*arr_1[1,:];\n",
    "print(arr_1);"
   ]
  },
  {
   "cell_type": "code",
   "execution_count": 9,
   "metadata": {},
   "outputs": [
    {
     "name": "stdout",
     "output_type": "stream",
     "text": [
      "[-11.   8.   5.]\n"
     ]
    }
   ],
   "source": [
    "print(arr_1[1:,5]/arr_1[1:,0])"
   ]
  },
  {
   "cell_type": "code",
   "execution_count": 10,
   "metadata": {},
   "outputs": [
    {
     "name": "stdout",
     "output_type": "stream",
     "text": [
      "[[-10.           0.           6.           0.           0.\n",
      "   66.        ]\n",
      " [ -1.           1.           1.           0.           0.\n",
      "   11.        ]\n",
      " [  2.           0.          -1.           1.           0.\n",
      "   16.        ]\n",
      " [  1.           0.          -0.71428573   0.           0.14285715\n",
      "    5.        ]]\n"
     ]
    }
   ],
   "source": [
    "arr_2 = np.copy(arr_1);\n",
    "arr_2[3,:] = arr_2[3,:]/arr_2[3,0];\n",
    "print(arr_2);"
   ]
  },
  {
   "cell_type": "code",
   "execution_count": 32,
   "metadata": {},
   "outputs": [
    {
     "name": "stdout",
     "output_type": "stream",
     "text": [
      "0.0    0.0    -1.14    0.0    1.43    116.0    \n",
      "0.0    1.0    0.29    0.0    0.14    16.0    \n",
      "0.0    0.0    0.43    1.0    -0.29    6.0    \n",
      "1.0    0.0    -0.71    0.0    0.14    5.0    \n"
     ]
    }
   ],
   "source": [
    "arr_2[0,:] = arr_2[0,:] - arr_2[0,0]*arr_2[3,:];\n",
    "arr_2[1,:] = arr_2[1,:] - arr_2[1,0]*arr_2[3,:];\n",
    "arr_2[2,:] = arr_2[2,:] - arr_2[2,0]*arr_2[3,:];\n",
    "\n",
    "\n",
    "printArray(arr_2)"
   ]
  },
  {
   "cell_type": "code",
   "execution_count": 33,
   "metadata": {},
   "outputs": [],
   "source": [
    "arr_3 = np.copy(arr_2);"
   ]
  },
  {
   "cell_type": "code",
   "execution_count": null,
   "metadata": {},
   "outputs": [],
   "source": []
  }
 ],
 "metadata": {
  "kernelspec": {
   "display_name": "Python 3",
   "language": "python",
   "name": "python3"
  },
  "language_info": {
   "codemirror_mode": {
    "name": "ipython",
    "version": 3
   },
   "file_extension": ".py",
   "mimetype": "text/x-python",
   "name": "python",
   "nbconvert_exporter": "python",
   "pygments_lexer": "ipython3",
   "version": "3.7.4"
  }
 },
 "nbformat": 4,
 "nbformat_minor": 2
}
