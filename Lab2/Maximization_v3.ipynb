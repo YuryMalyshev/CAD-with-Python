{
 "cells": [
  {
   "cell_type": "code",
   "execution_count": 44,
   "metadata": {},
   "outputs": [],
   "source": [
    "import numpy as np;\n",
    "import matplotlib.pyplot as plt;\n",
    "import matplotlib as mpl;\n",
    "import math;\n",
    "mpl.rcParams['figure.dpi'] = 600;"
   ]
  },
  {
   "cell_type": "code",
   "execution_count": null,
   "metadata": {},
   "outputs": [],
   "source": [
    "def printArray(list):\n",
    "    for sub in list:\n",
    "        line = \"[\";\n",
    "        for el in sub:\n",
    "            line = line + \"%7.1f \" % (el);\n",
    "        line = line + \"]\";\n",
    "        print(line);\n",
    "    print();"
   ]
  },
  {
   "cell_type": "code",
   "execution_count": null,
   "metadata": {},
   "outputs": [],
   "source": [
    "def getMinIndex(array):\n",
    "    index = 0;\n",
    "    i = 0;\n",
    "    element = math.inf;\n",
    "    for el in array:\n",
    "        #print(el);\n",
    "        if(el < element and el > 0):\n",
    "            index = i;\n",
    "            element = el;\n",
    "            #print(index);\n",
    "        i += 1;\n",
    "    return index;"
   ]
  },
  {
   "cell_type": "code",
   "execution_count": null,
   "metadata": {},
   "outputs": [],
   "source": [
    "def divideArrays(array1, array2): #divides array1 by array2\n",
    "    temp = [0] * len(array1);\n",
    "    i = 0;\n",
    "    for x in array2:\n",
    "        if( x == 0 ):\n",
    "            temp[i] = math.inf;\n",
    "        else:\n",
    "            temp[i] = array1[i]/array2[i];\n",
    "        i += 1;\n",
    "    #print(temp);\n",
    "    return temp;"
   ]
  },
  {
   "cell_type": "code",
   "execution_count": null,
   "metadata": {},
   "outputs": [],
   "source": [
    "def fillSlack(list):\n",
    "    nIneq = len(list)-1;\n",
    "    nVar = len(list[0])-1;\n",
    "    i = 0;\n",
    "    while(i < nIneq):\n",
    "        i += 1; \n",
    "        list = np.insert(list, len(list[0])-1, 0, axis= 1 );\n",
    "    \n",
    "    i = 0;\n",
    "    j = nVar;\n",
    "    while (i < nIneq):\n",
    "        list[i][(j+i)] = 1;\n",
    "        i += 1;\n",
    "    return list;"
   ]
  },
  {
   "cell_type": "code",
   "execution_count": 56,
   "metadata": {},
   "outputs": [],
   "source": [
    "def maximize(list):\n",
    "    list = fillSlack(list);\n",
    "    list[ len(list)-1  ] *= -1;\n",
    "    \n",
    "    objFun = len(list)-1;\n",
    "    bCol = len(list[0])-1;\n",
    "    \n",
    "    while(min(list[objFun]) < 0):\n",
    "        #print(min(list[objFun]));\n",
    "        entryColumn = np.argmin(list[objFun]);\n",
    "        #print(\"Column \" + str(entryColumn));\n",
    "        #print(list[0:objFun, bCol]);\n",
    "        #print(list[0:objFun, entryColumn]);\n",
    "        temp = divideArrays(list[0:objFun, bCol] , list[0:objFun, entryColumn]);\n",
    "        #print(temp);\n",
    "        entryRow = getMinIndex(temp);#np.argmin(temp) + 1; #1 is offset. See above\n",
    "        #print(\"Row \" + str(entryRow));\n",
    "        print(\"Entry point is at: [\" + str(entryRow) + \";\" + str(entryColumn) + \"]\");\n",
    "        list[entryRow] = list[entryRow]/list[entryRow][entryColumn];\n",
    "        i = 0;\n",
    "        while i < len(list):\n",
    "            #print(inputArray[i]);\n",
    "            if(i != entryRow):\n",
    "                list[i] = list[i] - list[i][entryColumn]*list[entryRow]\n",
    "            i += 1;\n",
    "        print(\"Intermediate result: \")\n",
    "        printArray(list)\n",
    "        print();\n",
    "    return list;"
   ]
  },
  {
   "cell_type": "code",
   "execution_count": 46,
   "metadata": {},
   "outputs": [],
   "source": [
    "def minimize(list):\n",
    "    list = np.transpose(list);\n",
    "    list = maximize(list);\n",
    "    return list;"
   ]
  },
  {
   "cell_type": "code",
   "execution_count": null,
   "metadata": {},
   "outputs": [],
   "source": [
    "def fillInMatrix():\n",
    "    rows = int(input(\"Number of inequalities: \")) + 1; #\n",
    "    nVar = int(input(\"Number of variables: \"));\n",
    "    columns = nVar + 1; # Plus result column\n",
    "    print(\"Rows: \" + str(rows) + \" Columns: \" + str(columns));\n",
    "    inputArray = np.zeros([rows, columns], dtype=np.float32);\n",
    "    i = 0;\n",
    "    while(i < rows):\n",
    "        j = 0;\n",
    "        if(i == (rows-1)):\n",
    "            print(\"Enter values for Objective function: \");\n",
    "            objFun = i;\n",
    "        else:\n",
    "            print(\"Enter values for Constraints\");\n",
    "        while(j < (nVar+1)):\n",
    "            if(j != nVar):\n",
    "                inputArray[i][j] = float(input(\"Input coefficient of var №\" + str(j+1) + \": \"));\n",
    "            elif (i != (rows-1)):\n",
    "                inputArray[i][columns-1] = float(input(\"Input resulting variable (b): \"));\n",
    "            elif (i == (rows-1)):\n",
    "                inputArray[i][columns-1] = 0;\n",
    "            j += 1;\n",
    "        print();\n",
    "        i += 1;\n",
    "    return inputArray;"
   ]
  },
  {
   "cell_type": "code",
   "execution_count": 57,
   "metadata": {},
   "outputs": [
    {
     "name": "stdout",
     "output_type": "stream",
     "text": [
      "Initial matrix: \n",
      "[    1.0     1.0     1.0     6.0 ]\n",
      "[    0.0     1.0     2.0     8.0 ]\n",
      "[   -1.0     2.0     2.0     4.0 ]\n",
      "[    2.0    10.0     8.0     0.0 ]\n",
      "\n",
      "[    1.0     0.0    -1.0     2.0 ]\n",
      "[    1.0     1.0     2.0    10.0 ]\n",
      "[    1.0     2.0     2.0     8.0 ]\n",
      "[    6.0     8.0     4.0     0.0 ]\n",
      "\n",
      "Let's maximize\n",
      "Entry point is at: [2;1]\n",
      "Intermediate result: \n",
      "[    1.0     0.0    -1.0     1.0     0.0     0.0     2.0 ]\n",
      "[    0.5     0.0     1.0     0.0     1.0    -0.5     6.0 ]\n",
      "[    0.5     1.0     1.0     0.0     0.0     0.5     4.0 ]\n",
      "[   -2.0     0.0     4.0     0.0     0.0     4.0    32.0 ]\n",
      "\n",
      "\n",
      "Entry point is at: [0;0]\n",
      "Intermediate result: \n",
      "[    1.0     0.0    -1.0     1.0     0.0     0.0     2.0 ]\n",
      "[    0.0     0.0     1.5    -0.5     1.0    -0.5     5.0 ]\n",
      "[    0.0     1.0     1.5    -0.5     0.0     0.5     3.0 ]\n",
      "[    0.0     0.0     2.0     2.0     0.0     4.0    36.0 ]\n",
      "\n",
      "\n",
      "[    1.0     0.0    -1.0     1.0     0.0     0.0     2.0 ]\n",
      "[    0.0     0.0     1.5    -0.5     1.0    -0.5     5.0 ]\n",
      "[    0.0     1.0     1.5    -0.5     0.0     0.5     3.0 ]\n",
      "[    0.0     0.0     2.0     2.0     0.0     4.0    36.0 ]\n",
      "\n"
     ]
    }
   ],
   "source": [
    "print(\"Fill in initial matrix: \");\n",
    "inputArray = fillInMatrix();\n",
    "printArray(inputArray);\n",
    "#maximize(np.copy(inputArray));\n",
    "list = minimize(np.copy(inputArray));\n",
    "print(\"Final matrix: \");\n",
    "printArray(list);"
   ]
  },
  {
   "cell_type": "code",
   "execution_count": null,
   "metadata": {},
   "outputs": [],
   "source": []
  }
 ],
 "metadata": {
  "kernelspec": {
   "display_name": "Python 3",
   "language": "python",
   "name": "python3"
  },
  "language_info": {
   "codemirror_mode": {
    "name": "ipython",
    "version": 3
   },
   "file_extension": ".py",
   "mimetype": "text/x-python",
   "name": "python",
   "nbconvert_exporter": "python",
   "pygments_lexer": "ipython3",
   "version": "3.7.4"
  }
 },
 "nbformat": 4,
 "nbformat_minor": 2
}
