{
 "cells": [
  {
   "cell_type": "code",
   "execution_count": 1,
   "metadata": {},
   "outputs": [],
   "source": [
    "import numpy as np;\n",
    "import matplotlib.pyplot as plt;\n",
    "import matplotlib as mpl;\n",
    "import math;\n",
    "mpl.rcParams['figure.dpi'] = 600;"
   ]
  },
  {
   "cell_type": "code",
   "execution_count": 2,
   "metadata": {},
   "outputs": [],
   "source": [
    "def printArray(list):\n",
    "    for sub in list:\n",
    "        line = \"[\";\n",
    "        for el in sub:\n",
    "            line = line + \"%7.1f \" % (el);\n",
    "        line = line + \"]\";\n",
    "        print(line);\n",
    "    print();\n",
    "    \n",
    "def getMinIndex(array):\n",
    "    index = 0;\n",
    "    i = 0;\n",
    "    element = math.inf;\n",
    "    for el in array:\n",
    "        if(el < element and el > 0):\n",
    "            index = i;\n",
    "            element = el;\n",
    "        i += 1;\n",
    "    return index;\n",
    "\n",
    "def divideArrays(array1, array2): #divides array1 by array2\n",
    "    temp = [0] * len(array1);\n",
    "    i = 0;\n",
    "    for x in array2:\n",
    "        if( x == 0 ):\n",
    "            temp[i] = math.inf;\n",
    "        else:\n",
    "            temp[i] = array1[i]/array2[i];\n",
    "        i += 1;\n",
    "    return temp;\n",
    "    \n",
    "def maximize(list):\n",
    "    \n",
    "    objFun = len(list)-1;\n",
    "    bCol = len(list[0])-1;\n",
    "    \n",
    "    while(min(list[objFun]) < 0):\n",
    "        entryColumn = np.argmin(list[objFun]);\n",
    "        temp = divideArrays(list [0:objFun, bCol] , list[0:objFun, entryColumn]);\n",
    "        entryRow = getMinIndex(temp);\n",
    "        print(\"Entry point is at: [\" + str(entryRow) + \";\" + str(entryColumn) + \"]\");\n",
    "        list[entryRow] = list[entryRow]/list[entryRow][entryColumn];\n",
    "        i = 0;\n",
    "        while i < len(list):\n",
    "            #print(inputArray[i]);\n",
    "            if(i != entryRow):\n",
    "                list[i] = list[i] - list[i][entryColumn]*list[entryRow]\n",
    "            i += 1;\n",
    "        print(\"Intermediate result: \")\n",
    "        printArray(list)\n",
    "        print();\n",
    "    return list;\n",
    "\n",
    "def minimize(list):\n",
    "    list = maximize(np.transpose(list));"
   ]
  },
  {
   "cell_type": "code",
   "execution_count": 4,
   "metadata": {},
   "outputs": [
    {
     "name": "stdout",
     "output_type": "stream",
     "text": [
      "Number of inequalities: 3\n",
      "Number of variables: 2\n",
      "Rows: 4 Columns: 6\n"
     ]
    }
   ],
   "source": [
    "#print(\"Number of equations: \")\n",
    "rows = int(input(\"Number of inequalities: \")) + 1; #\n",
    "#print(\"Number of variables: \")\n",
    "nVar = int(input(\"Number of variables: \"));\n",
    "columns = nVar + (rows-1) + 1; #for every row a slack var. Plus result column\n",
    "print(\"Rows: \" + str(rows) + \" Columns: \" + str(columns));"
   ]
  },
  {
   "cell_type": "code",
   "execution_count": 35,
   "metadata": {},
   "outputs": [],
   "source": [
    "inputArray = np.zeros([rows, columns], dtype=np.float32);\n",
    "i = 0;\n",
    "j = nVar;\n",
    "while (i < rows-1):\n",
    "    inputArray[i][(j+i)] = 1;\n",
    "    i += 1;\n",
    "#printArray(inputArray);"
   ]
  },
  {
   "cell_type": "code",
   "execution_count": 36,
   "metadata": {},
   "outputs": [
    {
     "name": "stdout",
     "output_type": "stream",
     "text": [
      "Enter values for Constraints\n",
      "Input coefficient of var №1: 2\n",
      "Input coefficient of var №2: 2\n",
      "Input resulting variable (b): 3\n",
      "\n",
      "Enter values for Constraints\n",
      "Input coefficient of var №1: 1\n",
      "Input coefficient of var №2: 2\n",
      "Input resulting variable (b): 3\n",
      "\n",
      "Enter values for Objective function: \n",
      "Input coefficient of var №1: 4\n",
      "Input coefficient of var №2: 5\n",
      "\n"
     ]
    }
   ],
   "source": [
    "i = 0;\n",
    "while(i < rows):\n",
    "    j = 0;\n",
    "    if(i == (rows-1)):\n",
    "        print(\"Enter values for Objective function: \");\n",
    "        objFun = i;\n",
    "    else:\n",
    "        print(\"Enter values for Constraints\");\n",
    "    while(j < (nVar+1)):\n",
    "        if(j != nVar):\n",
    "            inputArray[i][j] = float(input(\"Input coefficient of var №\" + str(j+1) + \": \"));\n",
    "        elif (i != (rows-1)):\n",
    "            inputArray[i][columns-1] = float(input(\"Input resulting variable (b): \"));\n",
    "        elif (i == (rows-1)):\n",
    "            inputArray[i][columns-1] = 0;\n",
    "        j += 1;\n",
    "    print();\n",
    "    i += 1;"
   ]
  },
  {
   "cell_type": "code",
   "execution_count": 37,
   "metadata": {},
   "outputs": [
    {
     "name": "stdout",
     "output_type": "stream",
     "text": [
      "Initial matrix: \n",
      "[    2.0     2.0     1.0     0.0     3.0 ]\n",
      "[    1.0     2.0     0.0     1.0     3.0 ]\n",
      "[    4.0     5.0     0.0     0.0     0.0 ]\n",
      "\n"
     ]
    }
   ],
   "source": [
    "print(\"Initial matrix: \");\n",
    "printArray(inputArray);\n",
    "#maximize(np.copy(inputArray));\n",
    "minimize(np.copy(inputArray));"
   ]
  },
  {
   "cell_type": "code",
   "execution_count": null,
   "metadata": {},
   "outputs": [],
   "source": []
  }
 ],
 "metadata": {
  "kernelspec": {
   "display_name": "Python 3",
   "language": "python",
   "name": "python3"
  },
  "language_info": {
   "codemirror_mode": {
    "name": "ipython",
    "version": 3
   },
   "file_extension": ".py",
   "mimetype": "text/x-python",
   "name": "python",
   "nbconvert_exporter": "python",
   "pygments_lexer": "ipython3",
   "version": "3.7.4"
  }
 },
 "nbformat": 4,
 "nbformat_minor": 2
}
