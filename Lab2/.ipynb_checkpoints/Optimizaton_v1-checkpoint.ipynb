{
 "cells": [
  {
   "cell_type": "code",
   "execution_count": 1,
   "metadata": {},
   "outputs": [],
   "source": [
    "import numpy as np;\n",
    "import matplotlib.pyplot as plt;\n",
    "import matplotlib as mpl;\n",
    "import math;\n",
    "mpl.rcParams['figure.dpi'] = 600;"
   ]
  },
  {
   "cell_type": "code",
   "execution_count": 2,
   "metadata": {},
   "outputs": [],
   "source": [
    "def printArray(list):\n",
    "    for sub in list:\n",
    "        line = \"[\";\n",
    "        for el in sub:\n",
    "            line = line + \"%7.1f \" % (el);\n",
    "        line = line + \"]\";\n",
    "        print(line);\n",
    "    print();"
   ]
  },
  {
   "cell_type": "code",
   "execution_count": 3,
   "metadata": {},
   "outputs": [],
   "source": [
    "def getMinIndex(array):\n",
    "    index = 0;\n",
    "    i = 0;\n",
    "    element = math.inf;\n",
    "    for el in array:\n",
    "        #print(el);\n",
    "        if(el < element and el > 0):\n",
    "            index = i;\n",
    "            element = el;\n",
    "            #print(index);\n",
    "        i += 1;\n",
    "    return index;"
   ]
  },
  {
   "cell_type": "code",
   "execution_count": 4,
   "metadata": {},
   "outputs": [],
   "source": [
    "def divideArrays(array1, array2): #divides array1 by array2\n",
    "    temp = [0] * len(array1);\n",
    "    i = 0;\n",
    "    for x in array2:\n",
    "        if( x == 0 ):\n",
    "            temp[i] = math.inf;\n",
    "        else:\n",
    "            temp[i] = array1[i]/array2[i];\n",
    "        i += 1;\n",
    "    #print(temp);\n",
    "    return temp;"
   ]
  },
  {
   "cell_type": "code",
   "execution_count": 5,
   "metadata": {},
   "outputs": [],
   "source": [
    "def fillSlack(list):\n",
    "    nIneq = len(list)-1;\n",
    "    nVar = len(list[0])-1;\n",
    "    i = 0;\n",
    "    while(i < nIneq):\n",
    "        i += 1; \n",
    "        list = np.insert(list, len(list[0])-1, 0, axis= 1 );\n",
    "    \n",
    "    i = 0;\n",
    "    j = nVar;\n",
    "    while (i < nIneq):\n",
    "        list[i][(j+i)] = 1;\n",
    "        i += 1;\n",
    "    return list;"
   ]
  },
  {
   "cell_type": "code",
   "execution_count": 6,
   "metadata": {},
   "outputs": [],
   "source": [
    "def maximize(list):\n",
    "    print(\"Maximize!\");\n",
    "    list = fillSlack(list);\n",
    "    list[ len(list)-1  ] *= -1;\n",
    "    \n",
    "    objFun = len(list)-1;\n",
    "    bCol = len(list[0])-1;\n",
    "    \n",
    "    while(min(list[objFun]) < 0):\n",
    "        #print(min(list[objFun]));\n",
    "        entryColumn = np.argmin(list[objFun]);\n",
    "        #print(\"Column \" + str(entryColumn));\n",
    "        #print(list[0:objFun, bCol]);\n",
    "        #print(list[0:objFun, entryColumn]);\n",
    "        temp = divideArrays(list[0:objFun, bCol] , list[0:objFun, entryColumn]);\n",
    "        #print(temp);\n",
    "        entryRow = getMinIndex(temp);#np.argmin(temp) + 1; #1 is offset. See above\n",
    "        #print(\"Row \" + str(entryRow));\n",
    "        print(\"Entry point is at: [\" + str(entryRow) + \";\" + str(entryColumn) + \"]\");\n",
    "        list[entryRow] = list[entryRow]/list[entryRow][entryColumn];\n",
    "        i = 0;\n",
    "        while i < len(list):\n",
    "            #print(inputArray[i]);\n",
    "            if(i != entryRow):\n",
    "                list[i] = list[i] - list[i][entryColumn]*list[entryRow]\n",
    "            i += 1;\n",
    "        print(\"Intermediate result: \")\n",
    "        printArray(list)\n",
    "        print();\n",
    "    return list;"
   ]
  },
  {
   "cell_type": "code",
   "execution_count": 7,
   "metadata": {},
   "outputs": [],
   "source": [
    "def minimize(list):\n",
    "    print(\"Minimize!\");\n",
    "    list = np.transpose(list);\n",
    "    print(\"Matrix after transpose: \")\n",
    "    printArray(list);\n",
    "    list = maximize(list);\n",
    "    return list;"
   ]
  },
  {
   "cell_type": "code",
   "execution_count": 8,
   "metadata": {},
   "outputs": [],
   "source": [
    "def fillInMatrix():\n",
    "    #print(\"Number of equations: \")\n",
    "    rows = int(input(\"Number of inequalities: \")) + 1; #\n",
    "    #print(\"Number of variables: \")\n",
    "    nVar = int(input(\"Number of variables: \"));\n",
    "    columns = nVar + 1; # Plus result column\n",
    "    print(\"Rows: \" + str(rows) + \" Columns: \" + str(columns));\n",
    "    inputArray = np.zeros([rows, columns], dtype=np.float32);\n",
    "    #printArray(inputArray);\n",
    "    i = 0;\n",
    "    while(i < rows):\n",
    "        j = 0;\n",
    "        if(i == (rows-1)):\n",
    "            print(\"Enter values for Objective function: \");\n",
    "            objFun = i;\n",
    "        else:\n",
    "            print(\"Enter values for Constraints\");\n",
    "        while(j < (nVar+1)):\n",
    "            if(j != nVar):\n",
    "                inputArray[i][j] = float(input(\"Input coefficient of var №\" + str(j+1) + \": \"));\n",
    "            elif (i != (rows-1)):\n",
    "                inputArray[i][columns-1] = float(input(\"Input resulting variable (b): \"));\n",
    "            elif (i == (rows-1)):\n",
    "                inputArray[i][columns-1] = 0;\n",
    "            j += 1;\n",
    "        print();\n",
    "        i += 1;\n",
    "    return inputArray;"
   ]
  },
  {
   "cell_type": "code",
   "execution_count": 9,
   "metadata": {},
   "outputs": [
    {
     "name": "stdout",
     "output_type": "stream",
     "text": [
      "Fill in initial matrix: \n",
      "Number of inequalities: 3\n",
      "Number of variables: 2\n",
      "Rows: 4 Columns: 3\n",
      "Enter values for Constraints\n",
      "Input coefficient of var №1: 400\n",
      "Input coefficient of var №2: 300\n",
      "Input resulting variable (b): 25000\n",
      "\n",
      "Enter values for Constraints\n",
      "Input coefficient of var №1: 300\n",
      "Input coefficient of var №2: 400\n",
      "Input resulting variable (b): 27000\n",
      "\n",
      "Enter values for Constraints\n",
      "Input coefficient of var №1: 200\n",
      "Input coefficient of var №2: 500\n",
      "Input resulting variable (b): 30000\n",
      "\n",
      "Enter values for Objective function: \n",
      "Input coefficient of var №1: 20000\n",
      "Input coefficient of var №2: 25000\n",
      "\n",
      "[  400.0   300.0 25000.0 ]\n",
      "[  300.0   400.0 27000.0 ]\n",
      "[  200.0   500.0 30000.0 ]\n",
      "[20000.0 25000.0     0.0 ]\n",
      "\n",
      "[  400.0   300.0   200.0 20000.0 ]\n",
      "[  300.0   400.0   500.0 25000.0 ]\n",
      "[25000.0 27000.0 30000.0     0.0 ]\n",
      "\n",
      "Entry point is at: [1;2]\n",
      "Intermediate result: \n",
      "[  280.0   140.0     0.0     1.0    -0.4 10000.0 ]\n",
      "[    0.6     0.8     1.0     0.0     0.0    50.0 ]\n",
      "[-7000.0 -3000.0     0.0     0.0    60.0 1500000.0 ]\n",
      "\n",
      "\n",
      "Entry point is at: [0;0]\n",
      "Intermediate result: \n",
      "[    1.0     0.5     0.0     0.0    -0.0    35.7 ]\n",
      "[    0.0     0.5     1.0    -0.0     0.0    28.6 ]\n",
      "[    0.0   500.0     0.0    25.0    50.0 1750000.0 ]\n",
      "\n",
      "\n",
      "Final matrix: \n",
      "[    1.0     0.5     0.0     0.0    -0.0    35.7 ]\n",
      "[    0.0     0.5     1.0    -0.0     0.0    28.6 ]\n",
      "[    0.0   500.0     0.0    25.0    50.0 1750000.0 ]\n",
      "\n"
     ]
    }
   ],
   "source": [
    "print(\"Fill in initial matrix: \");\n",
    "inputArray = fillInMatrix();\n",
    "print(\"Initial matrix: \");\n",
    "printArray(inputArray);\n",
    "#maximize(np.copy(inputArray));\n",
    "list = minimize(np.copy(inputArray));\n",
    "print(\"Final matrix: \");\n",
    "printArray(list);"
   ]
  },
  {
   "cell_type": "code",
   "execution_count": null,
   "metadata": {},
   "outputs": [],
   "source": []
  }
 ],
 "metadata": {
  "kernelspec": {
   "display_name": "Python 3",
   "language": "python",
   "name": "python3"
  },
  "language_info": {
   "codemirror_mode": {
    "name": "ipython",
    "version": 3
   },
   "file_extension": ".py",
   "mimetype": "text/x-python",
   "name": "python",
   "nbconvert_exporter": "python",
   "pygments_lexer": "ipython3",
   "version": "3.7.4"
  }
 },
 "nbformat": 4,
 "nbformat_minor": 2
}
