{
 "cells": [
  {
   "cell_type": "code",
   "execution_count": 26,
   "metadata": {},
   "outputs": [],
   "source": [
    "import numpy as np;\n",
    "import matplotlib.pyplot as plt;\n",
    "import matplotlib as mpl;\n",
    "import math;\n",
    "mpl.rcParams['figure.dpi'] = 600;\n",
    "objFun = 0; #index of objective function row\n",
    "columnNum = 0;\n",
    "rowNum = 0;"
   ]
  },
  {
   "cell_type": "code",
   "execution_count": 2,
   "metadata": {},
   "outputs": [],
   "source": [
    "def printArray(list):\n",
    "    for sub in list:\n",
    "        line = \"[\";\n",
    "        for el in sub:\n",
    "            line = line + \"%7.2f \" % (el);\n",
    "        line = line + \"]\";\n",
    "        print(line);\n",
    "    print();\n",
    "def getMinIndex(array):\n",
    "    index = 0;\n",
    "    i = 0;\n",
    "    element = math.inf;\n",
    "    for el in array:\n",
    "        #print(el);\n",
    "        if(el < element and el > 0):\n",
    "            index = i;\n",
    "            element = el;\n",
    "            #print(index);\n",
    "        i += 1;\n",
    "    return index;"
   ]
  },
  {
   "cell_type": "code",
   "execution_count": 3,
   "metadata": {},
   "outputs": [],
   "source": [
    "inputArray = np.array([[-4, -6, 0, 0, 0, 0], \n",
    "                       [-1, 1, 1, 0, 0, 11],\n",
    "                       [1, 1, 0, 1, 0, 27],\n",
    "                       [2, 5, 0, 0, 1, 90]], dtype=np.float32);"
   ]
  },
  {
   "cell_type": "code",
   "execution_count": 18,
   "metadata": {},
   "outputs": [
    {
     "name": "stdout",
     "output_type": "stream",
     "text": [
      "[   0.00    0.00   -1.14    0.00    1.43  116.00 ]\n",
      "[   0.00    1.00    0.29    0.00    0.14   16.00 ]\n",
      "[   0.00    0.00    0.43    1.00   -0.29    6.00 ]\n",
      "[   1.00    0.00   -0.71    0.00    0.14    5.00 ]\n",
      "\n"
     ]
    }
   ],
   "source": [
    "printArray(inputArray);"
   ]
  },
  {
   "cell_type": "code",
   "execution_count": 19,
   "metadata": {},
   "outputs": [
    {
     "name": "stdout",
     "output_type": "stream",
     "text": [
      "-1.1428576\n",
      "2\n"
     ]
    }
   ],
   "source": [
    "print(min(inputArray[objFun]));\n",
    "columnNum = np.argmin(inputArray[objFun]);\n",
    "print(columnNum);"
   ]
  },
  {
   "cell_type": "code",
   "execution_count": 20,
   "metadata": {},
   "outputs": [
    {
     "name": "stdout",
     "output_type": "stream",
     "text": [
      "[-1.1428576   0.28571427  0.42857146 -0.71428573]\n"
     ]
    }
   ],
   "source": [
    "print(inputArray[:,columnNum]);"
   ]
  },
  {
   "cell_type": "code",
   "execution_count": 21,
   "metadata": {},
   "outputs": [
    {
     "name": "stdout",
     "output_type": "stream",
     "text": [
      "[56.000004 13.999999 -7.      ]\n"
     ]
    }
   ],
   "source": [
    "temp = inputArray[1:,(len(inputArray[0])-1)]/inputArray[1:,columnNum];\n",
    "print(temp);"
   ]
  },
  {
   "cell_type": "code",
   "execution_count": 22,
   "metadata": {},
   "outputs": [
    {
     "name": "stdout",
     "output_type": "stream",
     "text": [
      "2\n"
     ]
    }
   ],
   "source": [
    "rowNum = getMinIndex(temp)+1;#np.argmin(temp) + 1; #1 is offset. See above\n",
    "print(rowNum);"
   ]
  },
  {
   "cell_type": "code",
   "execution_count": 23,
   "metadata": {},
   "outputs": [
    {
     "name": "stdout",
     "output_type": "stream",
     "text": [
      "[   0.00    0.00   -1.14    0.00    1.43  116.00 ]\n",
      "[   0.00    1.00    0.29    0.00    0.14   16.00 ]\n",
      "[   0.00    0.00    1.00    2.33   -0.67   14.00 ]\n",
      "[   1.00    0.00   -0.71    0.00    0.14    5.00 ]\n",
      "\n"
     ]
    }
   ],
   "source": [
    "inputArray[rowNum] = inputArray[rowNum]/inputArray[rowNum][columnNum];\n",
    "printArray(inputArray)"
   ]
  },
  {
   "cell_type": "code",
   "execution_count": 24,
   "metadata": {},
   "outputs": [
    {
     "name": "stdout",
     "output_type": "stream",
     "text": [
      "[   0.00    0.00    0.00    2.67    0.67  132.00 ]\n",
      "[   0.00    1.00    0.00   -0.67    0.33   12.00 ]\n",
      "[   0.00    0.00    1.00    2.33   -0.67   14.00 ]\n",
      "[   1.00    0.00    0.00    1.67   -0.33   15.00 ]\n",
      "\n"
     ]
    }
   ],
   "source": [
    "i = 0;\n",
    "while i < len(inputArray):\n",
    "    #print(inputArray[i]);\n",
    "    if(i != rowNum):\n",
    "        inputArray[i] = inputArray[i] - inputArray[i][columnNum]*inputArray[rowNum]\n",
    "    i += 1;\n",
    "printArray(inputArray)"
   ]
  },
  {
   "cell_type": "code",
   "execution_count": null,
   "metadata": {},
   "outputs": [],
   "source": []
  },
  {
   "cell_type": "code",
   "execution_count": null,
   "metadata": {},
   "outputs": [],
   "source": []
  }
 ],
 "metadata": {
  "kernelspec": {
   "display_name": "Python 3",
   "language": "python",
   "name": "python3"
  },
  "language_info": {
   "codemirror_mode": {
    "name": "ipython",
    "version": 3
   },
   "file_extension": ".py",
   "mimetype": "text/x-python",
   "name": "python",
   "nbconvert_exporter": "python",
   "pygments_lexer": "ipython3",
   "version": "3.7.4"
  }
 },
 "nbformat": 4,
 "nbformat_minor": 2
}
