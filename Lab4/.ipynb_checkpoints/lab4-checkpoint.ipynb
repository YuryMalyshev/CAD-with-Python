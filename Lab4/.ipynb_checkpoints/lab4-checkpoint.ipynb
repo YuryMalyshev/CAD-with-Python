{
 "cells": [
  {
   "cell_type": "code",
   "execution_count": 1,
   "metadata": {},
   "outputs": [],
   "source": [
    "import numpy as np;\n",
    "import csv;\n",
    "import Simplex;\n",
    "import matplotlib.pyplot as plt;\n",
    "import matplotlib as mpl;\n",
    "mpl.rcParams[\"figure.dpi\"] = 300;"
   ]
  },
  {
   "cell_type": "code",
   "execution_count": 2,
   "metadata": {},
   "outputs": [],
   "source": [
    "def lineCalc(x, a, b, C):\n",
    "    return (C - a*x)/b;\n",
    "def createList(r1, r2): \n",
    "    return [item for item in range(r1, r2+1)];"
   ]
  },
  {
   "cell_type": "code",
   "execution_count": 3,
   "metadata": {},
   "outputs": [
    {
     "name": "stdout",
     "output_type": "stream",
     "text": [
      "Init. Filename = y5_max.txt\n",
      "['leq', 'leq', 'max']\n",
      "  [  -1.00    3.00    6.00 ]\n",
      "  [   7.00    1.00   35.00 ]\n",
      "  [   7.00    9.00    0.00 ]\n",
      "\n",
      "Solving using simplex...\n",
      "Starting a new iteration with the following matrix: \n",
      "  [  -1.00    3.00    1.00    0.00    6.00 ]\n",
      "  [   7.00    1.00    0.00    1.00   35.00 ]\n",
      "  [  -7.00   -9.00    0.00    0.00   -0.00 ]\n",
      "\n",
      "Pivot point is at: [0;1]\n",
      "\n",
      "Starting a new iteration with the following matrix: \n",
      "  [  -0.33    1.00    0.33    0.00    2.00 ]\n",
      "  [   7.33    0.00   -0.33    1.00   33.00 ]\n",
      "  [ -10.00    0.00    3.00    0.00   18.00 ]\n",
      "\n",
      "Pivot point is at: [1;0]\n",
      "\n",
      "=========================Final Result=========================\n",
      "\n",
      "  [   0.00    1.00    0.32    0.05    3.50 ]\n",
      "  [   1.00    0.00   -0.05    0.14    4.50 ]\n",
      "  [   0.00    0.00    2.55    1.36   63.00 ]\n",
      "\n",
      "==============================================================\n",
      "Solution is:\n",
      "x1: 4.5\n",
      "x2: 3.5\n",
      "s1: 0\n",
      "s2: 0\n"
     ]
    }
   ],
   "source": [
    "test = Simplex.Simplex(\"y5_max.txt\")\n",
    "test.solve();\n",
    "test.showResultValues();"
   ]
  },
  {
   "cell_type": "code",
   "execution_count": 4,
   "metadata": {},
   "outputs": [
    {
     "data": {
      "image/png": "[encoded data removed]",
      "text/plain": [
       "<Figure size 432x288 with 1 Axes>"
      ]
     },
     "metadata": {
      "needs_background": "light"
     },
     "output_type": "display_data"
    }
   ],
   "source": [
    "plt.xlim([0,5]);\n",
    "plt.ylim([0,5]);\n",
    "plt.plot([0,5],\n",
    "        [\n",
    "            lineCalc(0,-1,3,6), \n",
    "            lineCalc(5, -1, 3, 6)\n",
    "        ], \"b-\");\n",
    "\n",
    "plt.plot([0,5],\n",
    "        [\n",
    "            lineCalc(0, 7 ,1, 35), \n",
    "            lineCalc(5, 7 ,1, 35)\n",
    "        ], \"b-\");\n",
    "\n",
    "plt.plot(createList(0, 5), [0]*6, \"go\");\n",
    "plt.plot(createList(0, 4), [1]*5, \"go\");\n",
    "plt.plot(createList(0, 4), [2]*5, \"go\");\n",
    "plt.plot(createList(3, 4), [3]*2, \"go\");\n",
    "\n",
    "plt.show();"
   ]
  },
  {
   "cell_type": "code",
   "execution_count": 5,
   "metadata": {},
   "outputs": [
    {
     "name": "stdout",
     "output_type": "stream",
     "text": [
      "0.5\n",
      "0\n"
     ]
    }
   ],
   "source": [
    "print(np.max(test.solutionMatrix[0:-2,-1]%1));\n",
    "row = np.argmax(test.solutionMatrix[0:-2,-1]%1);\n",
    "print(row);"
   ]
  },
  {
   "cell_type": "code",
   "execution_count": 6,
   "metadata": {},
   "outputs": [
    {
     "name": "stdout",
     "output_type": "stream",
     "text": [
      "  [   0.00    1.00    0.32    0.05    0.00    3.50 ]\n",
      "  [   1.00    0.00   -0.05    0.14    0.00    4.50 ]\n",
      "  [  -0.00   -0.00   -0.32   -0.05    1.00   -0.50 ]\n",
      "  [   0.00    0.00    2.55    1.36    0.00   63.00 ]\n",
      "\n",
      "[ nan  nan  -8. -30.   0.]\n"
     ]
    },
    {
     "name": "stderr",
     "output_type": "stream",
     "text": [
      "d:\\program files\\python37\\lib\\site-packages\\ipykernel_launcher.py:13: RuntimeWarning: invalid value encountered in true_divide\n",
      "  del sys.path[0]\n"
     ]
    }
   ],
   "source": [
    "g = np.copy(test.solutionMatrix);\n",
    "g = np.insert(g,\n",
    "             [\n",
    "                 g.shape[1]-1\n",
    "             ],\n",
    "             np.zeros(1, dtype=np.float32),\n",
    "             axis = 1);\n",
    "\n",
    "s = -(g[row,]%1);\n",
    "s[test.solutionMatrix.shape[1]-1] = 1;\n",
    "g = np.insert(g, [g.shape[0]-1], s, axis=0);\n",
    "Simplex.Simplex.printArray(g);\n",
    "temp = g[g.shape[0]-1, :-1]/g[g.shape[0]-2, :-1];\n",
    "print(temp);"
   ]
  },
  {
   "cell_type": "code",
   "execution_count": 7,
   "metadata": {},
   "outputs": [
    {
     "name": "stdout",
     "output_type": "stream",
     "text": [
      "  [   0.00    1.00    0.00   -0.00    1.00    3.00 ]\n",
      "  [   1.00    0.00    0.00    0.14   -0.14    4.57 ]\n",
      "  [   0.00    0.00    1.00    0.14   -3.14    1.57 ]\n",
      "  [   0.00    0.00    0.00    1.00    8.00   59.00 ]\n",
      "\n"
     ]
    }
   ],
   "source": [
    "test.solutionMatrix = Simplex.Simplex.performElimiation(g, 2, g.shape[0]-2);\n",
    "Simplex.Simplex.printArray(test.solutionMatrix);"
   ]
  },
  {
   "cell_type": "code",
   "execution_count": 8,
   "metadata": {},
   "outputs": [
    {
     "name": "stdout",
     "output_type": "stream",
     "text": [
      "0.5714285714285712\n",
      "1\n"
     ]
    }
   ],
   "source": [
    "print(np.max(test.solutionMatrix[0:-2,-1]%1));\n",
    "row = np.argmax(test.solutionMatrix[0:-2,-1]%1);\n",
    "print(row);"
   ]
  },
  {
   "cell_type": "code",
   "execution_count": 9,
   "metadata": {},
   "outputs": [
    {
     "name": "stdout",
     "output_type": "stream",
     "text": [
      "  [   0.00    1.00    0.00   -0.00    1.00    0.00    3.00 ]\n",
      "  [   1.00    0.00    0.00    0.14   -0.14    0.00    4.57 ]\n",
      "  [   0.00    0.00    1.00    0.14   -3.14    0.00    1.57 ]\n",
      "  [  -0.00   -0.00   -0.00   -0.14   -0.86    1.00   -0.57 ]\n",
      "  [   0.00    0.00    0.00    1.00    8.00    0.00   59.00 ]\n",
      "\n",
      "[        nan         nan         nan -7.         -9.33333333  0.        ]\n"
     ]
    },
    {
     "name": "stderr",
     "output_type": "stream",
     "text": [
      "d:\\program files\\python37\\lib\\site-packages\\ipykernel_launcher.py:13: RuntimeWarning: invalid value encountered in true_divide\n",
      "  del sys.path[0]\n"
     ]
    }
   ],
   "source": [
    "g = np.copy(test.solutionMatrix);\n",
    "g = np.insert(g,\n",
    "             [\n",
    "                 g.shape[1]-1\n",
    "             ],\n",
    "             np.zeros(1, dtype=np.float32),\n",
    "             axis = 1);\n",
    "\n",
    "s = -(g[row,]%1);\n",
    "s[test.solutionMatrix.shape[1]-1] = 1;\n",
    "g = np.insert(g, [g.shape[0]-1], s, axis=0);\n",
    "Simplex.Simplex.printArray(g);\n",
    "temp = g[g.shape[0]-1, :-1]/g[g.shape[0]-2, :-1];\n",
    "print(temp);"
   ]
  },
  {
   "cell_type": "code",
   "execution_count": 10,
   "metadata": {},
   "outputs": [
    {
     "name": "stdout",
     "output_type": "stream",
     "text": [
      "  [   0.00    1.00    0.00    0.00    1.00   -0.00    3.00 ]\n",
      "  [   1.00    0.00    0.00    0.00   -1.00    1.00    4.00 ]\n",
      "  [   0.00    0.00    1.00    0.00   -4.00    1.00    1.00 ]\n",
      "  [   0.00    0.00    0.00    1.00    6.00   -7.00    4.00 ]\n",
      "  [   0.00    0.00    0.00    0.00    2.00    7.00   55.00 ]\n",
      "\n"
     ]
    }
   ],
   "source": [
    "test.solutionMatrix = Simplex.Simplex.performElimiation(g, 3, g.shape[0]-2);\n",
    "Simplex.Simplex.printArray(test.solutionMatrix);"
   ]
  },
  {
   "cell_type": "code",
   "execution_count": null,
   "metadata": {},
   "outputs": [],
   "source": []
  }
 ],
 "metadata": {
  "kernelspec": {
   "display_name": "Python 3",
   "language": "python",
   "name": "python3"
  },
  "language_info": {
   "codemirror_mode": {
    "name": "ipython",
    "version": 3
   },
   "file_extension": ".py",
   "mimetype": "text/x-python",
   "name": "python",
   "nbconvert_exporter": "python",
   "pygments_lexer": "ipython3",
   "version": "3.7.4"
  }
 },
 "nbformat": 4,
 "nbformat_minor": 2
}
