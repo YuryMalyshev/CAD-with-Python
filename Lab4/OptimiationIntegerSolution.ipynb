{
 "cells": [
  {
   "cell_type": "code",
   "execution_count": 2,
   "metadata": {},
   "outputs": [],
   "source": [
    "import numpy as np;\n",
    "import math;\n",
    "import csv;\n",
    "import Simplex;\n",
    "import matplotlib.pyplot as plt;\n",
    "import matplotlib as mpl;\n",
    "mpl.rcParams[\"figure.dpi\"] = 300;"
   ]
  },
  {
   "cell_type": "code",
   "execution_count": null,
   "metadata": {},
   "outputs": [],
   "source": [
    "def lineCalc(x, a, b, C):\n",
    "    return (C - a*x)/b;\n",
    "def createList(r1, r2): \n",
    "    return [item for item in range(r1, r2+1)];"
   ]
  },
  {
   "cell_type": "code",
   "execution_count": null,
   "metadata": {},
   "outputs": [],
   "source": [
    "test = Simplex.Simplex(\"y5_max.txt\")\n",
    "test.solve();\n",
    "test.showResultValues();"
   ]
  },
  {
   "cell_type": "code",
   "execution_count": null,
   "metadata": {},
   "outputs": [],
   "source": [
    "plt.xlim([0,5]);\n",
    "plt.ylim([0,5]);\n",
    "plt.plot([0,5],\n",
    "        [\n",
    "            lineCalc(0,-1,3,6), \n",
    "            lineCalc(5, -1, 3, 6)\n",
    "        ], \"b-\");\n",
    "\n",
    "plt.plot([0,5],\n",
    "        [\n",
    "            lineCalc(0, 7 ,1, 35), \n",
    "            lineCalc(5, 7 ,1, 35)\n",
    "        ], \"b-\");\n",
    "\n",
    "plt.plot(createList(0, 5), [0]*6, \"go\");\n",
    "plt.plot(createList(0, 4), [1]*5, \"go\");\n",
    "plt.plot(createList(0, 4), [2]*5, \"go\");\n",
    "plt.plot(createList(3, 4), [3]*2, \"go\");\n",
    "\n",
    "plt.show();"
   ]
  },
  {
   "cell_type": "code",
   "execution_count": null,
   "metadata": {},
   "outputs": [],
   "source": []
  },
  {
   "cell_type": "code",
   "execution_count": null,
   "metadata": {},
   "outputs": [],
   "source": [
    "print(np.max(test.solutionMatrix[0:-2,-1]%1));\n",
    "row = np.argmax(test.solutionMatrix[0:-2,-1]%1);\n",
    "print(row);"
   ]
  },
  {
   "cell_type": "code",
   "execution_count": null,
   "metadata": {},
   "outputs": [],
   "source": [
    "g = np.copy(test.solutionMatrix);\n",
    "Simplex.Simplex.printArray(g);\n",
    "print();\n",
    "\n",
    "g = np.insert(g,\n",
    "             [\n",
    "                 g.shape[1]-1\n",
    "             ],\n",
    "             np.zeros(1, dtype=np.float32),\n",
    "             axis = 1);\n",
    "Simplex.Simplex.printArray(g);\n",
    "print();\n",
    "\n",
    "s = -(g[row,]%1);\n",
    "print(s);\n",
    "print();\n",
    "s[test.solutionMatrix.shape[1]-1] = 1;\n",
    "print(s);\n",
    "print();\n",
    "g = np.insert(g, [g.shape[0]-1], s, axis=0);\n",
    "Simplex.Simplex.printArray(g);\n",
    "temp = g[g.shape[0]-1, :-1]/g[g.shape[0]-2, :-1];\n",
    "print(temp);"
   ]
  },
  {
   "cell_type": "code",
   "execution_count": null,
   "metadata": {},
   "outputs": [],
   "source": []
  },
  {
   "cell_type": "code",
   "execution_count": null,
   "metadata": {},
   "outputs": [],
   "source": [
    "print(np.max(test.solutionMatrix[0:-2,-1]%1));\n",
    "row = np.argmax(test.solutionMatrix[0:-2,-1]%1);\n",
    "print(row);"
   ]
  },
  {
   "cell_type": "code",
   "execution_count": null,
   "metadata": {},
   "outputs": [],
   "source": [
    "g = np.copy(test.solutionMatrix);\n",
    "g = np.insert(g,\n",
    "             [\n",
    "                 g.shape[1]-1\n",
    "             ],\n",
    "             np.zeros(1, dtype=np.float32),\n",
    "             axis = 1);\n",
    "\n",
    "s = -(g[row,]%1);\n",
    "s[test.solutionMatrix.shape[1]-1] = 1;\n",
    "g = np.insert(g, [g.shape[0]-1], s, axis=0);\n",
    "Simplex.Simplex.printArray(g);\n",
    "temp = g[g.shape[0]-1, :-1]/g[g.shape[0]-2, :-1];\n",
    "print(temp);"
   ]
  },
  {
   "cell_type": "code",
   "execution_count": null,
   "metadata": {},
   "outputs": [],
   "source": [
    "test.solutionMatrix = Simplex.Simplex.performElimiation(g, 3, g.shape[0]-2);\n",
    "Simplex.Simplex.printArray(test.solutionMatrix);"
   ]
  },
  {
   "cell_type": "code",
   "execution_count": null,
   "metadata": {},
   "outputs": [],
   "source": [
    "#self.roundSolution(self.integerSolution, 6);\n",
    "        print(\"Is enough? \" + str (self.performCheck(  self.roundSolution(np.copy(self.integerSolution),5)  ) ));\n",
    "        \n",
    "        \n",
    "        print(\"Initial matrix for integer: \");\n",
    "        self.printArray(self.integerSolution);\n",
    "        #find the row -> search for maximum \"answer\" value of all (???) rows except the last one\n",
    "        row = np.argmax(self.integerSolution[0:-2,-1]%1);\n",
    "        print(\"Row: \" + str(row) + \" with value: \" + str( np.max(self.integerSolution[0:-2,-1]%1) ));\n",
    "        t_matrix = np.copy(self.integerSolution);\n",
    "        t_matrix = np.insert(t_matrix,\n",
    "             [\n",
    "                 t_matrix.shape[1]-1\n",
    "             ],\n",
    "             np.zeros(1, dtype=np.float32),\n",
    "             axis = 1);\n",
    "        print(\"t_matrix is: \");\n",
    "        self.printArray(t_matrix);\n",
    "        insertRow = -(t_matrix[row,]%1);\n",
    "        print(\"Insert row: \");\n",
    "        print(insertRow);\n",
    "        insertRow[-2] = 1; #last but one element\n",
    "        print(\"Insert row: \");\n",
    "        print(insertRow);\n",
    "        t_matrix = np.insert(t_matrix, [-1], insertRow, axis=0);\n",
    "        print(\"t_matrix is: \");\n",
    "        self.printArray(t_matrix);\n",
    "        temp = IntegerSimplex.divideArraysNaN(t_matrix[t_matrix.shape[0]-1, :-1],t_matrix[t_matrix.shape[0]-2, :-1]);\n",
    "        print(temp);\n",
    "        print(\"Max is \" + str(np.max(temp)) + \" and its pos is: \" + str(np.argmax(temp)));\n",
    "        \n",
    "        print(\"Perform elimination at point \" + str(np.argmax(temp)) + \" : \" + str(t_matrix.shape[0]-2));\n",
    "        self.integerSolution = self.performElimiation(t_matrix, np.argmax(temp), t_matrix.shape[0]-2); #at last row and index of greatest negative number from 'temp'\n",
    "        self.printArray(self.integerSolution);\n",
    "        \n",
    "        print(\"Is enough? \" + str (self.performCheck(  self.roundSolution(np.copy(self.integerSolution),5)  ) ));\n",
    "        #rounded = self.roundSolution(self.integerSolution, 6);\n",
    "        \n",
    "        #for x in (self.integerSolution[:, -1 ]):\n",
    "        #    print(\"Is mod 0: \" + str(x%1 == 0) + \" value was \" + str(x));"
   ]
  },
  {
   "cell_type": "code",
   "execution_count": 3,
   "metadata": {},
   "outputs": [],
   "source": [
    "class IntegerSimplex(Simplex.Simplex):\n",
    "    \n",
    "    integerSolution = [];\n",
    "    \n",
    "    def __init__(self, filename):\n",
    "        super().__init__(filename);\n",
    "        \n",
    "    def solve(self):\n",
    "        super().solve();\n",
    "        print(\"Now will perform integer solution\\n\\n\");\n",
    "        self.integerSolve();\n",
    "    \n",
    "    @staticmethod\n",
    "    def divideArraysNaN(array1, array2): #divides array1 by array2.\n",
    "        temp = np.zeros(len(array1));\n",
    "        i = 0;\n",
    "        for x in array2:\n",
    "            if( x == 0 ):\n",
    "                temp[i] = -math.inf;\n",
    "            else:\n",
    "                if(array1[i] == 0):\n",
    "                    temp[i] = -math.inf;\n",
    "                else:\n",
    "                    temp[i] = array1[i]/array2[i];\n",
    "            i += 1;\n",
    "        return temp;\n",
    "    \n",
    "    def performCheck(self, matrix):\n",
    "        return all(matrix[:, -1 ]%1 == 0);\n",
    "        \n",
    "    def integerSolve(self):\n",
    "        self.integerSolution = np.copy(self.solutionMatrix);\n",
    "        #self.roundSolution(self.integerSolution, 6);\n",
    "        \n",
    "        print(\"Is enough? \" + str (   self.performCheck(  self.roundSolution(np.copy(self.integerSolution),5)  )    )   );\n",
    "        \n",
    "        while(not self.performCheck(self.roundSolution(np.copy(self.integerSolution),5))):\n",
    "            print(\"Initial matrix for integer: \");\n",
    "            self.printArray(self.integerSolution);\n",
    "            #find the row -> search for maximum \"answer\" value of all (???) rows except the last one\n",
    "            row = np.argmax(self.integerSolution[0:-2,-1]%1);\n",
    "            print(\"Row: \" + str(row) + \" with value: \" + str( np.max(self.integerSolution[0:-2,-1]%1) ));\n",
    "            t_matrix = np.copy(self.integerSolution);\n",
    "            t_matrix = np.insert(t_matrix,\n",
    "                 [\n",
    "                     t_matrix.shape[1]-1\n",
    "                 ],\n",
    "                 np.zeros(1, dtype=np.float32),\n",
    "                 axis = 1);\n",
    "            print(\"t_matrix is: \");\n",
    "            self.printArray(t_matrix);\n",
    "            insertRow = -(t_matrix[row,]%1);\n",
    "            print(\"Insert row: \");\n",
    "            print(insertRow);\n",
    "            insertRow[-2] = 1; #last but one element\n",
    "            print(\"Insert row: \");\n",
    "            print(insertRow);\n",
    "            t_matrix = np.insert(t_matrix, [-1], insertRow, axis=0);\n",
    "            print(\"t_matrix is: \");\n",
    "            self.printArray(t_matrix);\n",
    "            temp = IntegerSimplex.divideArraysNaN(t_matrix[t_matrix.shape[0]-1, :-1],t_matrix[t_matrix.shape[0]-2, :-1]);\n",
    "            print(temp);\n",
    "            print(\"Max is \" + str(np.max(temp)) + \" and its pos is: \" + str(np.argmax(temp)));\n",
    "            print(\"Perform elimination at point \" + str(np.argmax(temp)) + \" : \" + str(t_matrix.shape[0]-2));\n",
    "            self.integerSolution = self.performElimiation(t_matrix, t_matrix.shape[0]-2, np.argmax(temp)); #at last row and index of greatest negative number from 'temp'\n",
    "            self.printArray(self.integerSolution);\n",
    "            \n",
    "        self.roundSolution(self.integerSolution,5);"
   ]
  },
  {
   "cell_type": "code",
   "execution_count": 4,
   "metadata": {},
   "outputs": [
    {
     "name": "stdout",
     "output_type": "stream",
     "text": [
      "Init. Filename = example2.csv\n",
      "['leq', 'leq', 'min']\n",
      "  [   3.00    2.00    6.00 ]\n",
      "  [  -3.00    2.00    0.00 ]\n",
      "  [   0.00   -1.00    0.00 ]\n",
      "\n",
      "Solving using simplex...\n",
      "=========================Final Result=========================\n",
      "\n",
      "  [  -3.00    3.00    1.00    0.00    0.00 ]\n",
      "  [   2.00    2.00    0.00   -1.00    1.00 ]\n",
      "  [   6.00    0.00    0.00    0.00   -0.00 ]\n",
      "\n",
      "==============================================================\n",
      "Now will perform integer solution\n",
      "\n",
      "\n",
      "Is enough? True\n",
      "Solution is:\n",
      "x1: 0.0\n",
      "x2: 0.0\n",
      "s1: 6.0\n",
      "s2: 0.0\n"
     ]
    }
   ],
   "source": [
    "test = IntegerSimplex(\"example2.csv\");\n",
    "test.solve();\n",
    "test.showResultValues(test.integerSolution);"
   ]
  },
  {
   "cell_type": "code",
   "execution_count": null,
   "metadata": {},
   "outputs": [],
   "source": []
  }
 ],
 "metadata": {
  "kernelspec": {
   "display_name": "Python 3",
   "language": "python",
   "name": "python3"
  },
  "language_info": {
   "codemirror_mode": {
    "name": "ipython",
    "version": 3
   },
   "file_extension": ".py",
   "mimetype": "text/x-python",
   "name": "python",
   "nbconvert_exporter": "python",
   "pygments_lexer": "ipython3",
   "version": "3.7.4"
  }
 },
 "nbformat": 4,
 "nbformat_minor": 2
}
